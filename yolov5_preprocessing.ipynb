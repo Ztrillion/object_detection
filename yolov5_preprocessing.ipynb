{
 "cells": [
  {
   "cell_type": "code",
   "execution_count": null,
   "metadata": {},
   "outputs": [],
   "source": [
    "import os\n",
    "from collections import defaultdict\n",
    "from tqdm import tqdm\n"
   ]
  },
  {
   "cell_type": "code",
   "execution_count": null,
   "metadata": {},
   "outputs": [],
   "source": [
    "path = 'D:/modeling_datasets/datasets/train/'\n",
    "annotations = []\n",
    "images = []\n",
    "for root,dirs,files in os.walk(path):\n",
    "    for file in files:\n",
    "        if file.endswith('.txt'):\n",
    "            annotations.append(root+'/'+file)\n",
    "        elif file.endswith('.jpg'):\n",
    "            images.append(root+'/'+file)\n",
    "print(f'annotation file : {len(annotations)}')\n",
    "print(f'image file : {len(images)}')"
   ]
  },
  {
   "cell_type": "code",
   "execution_count": null,
   "metadata": {},
   "outputs": [],
   "source": [
    "for file in tqdm(annotations):\n",
    "    new_text_content = ''\n",
    "\n",
    "    with open(file,'r',encoding='UTF-8') as f :\n",
    "        lines = f.readlines()\n",
    "        for idx, line in enumerate(lines):\n",
    "            new_string = line.strip().replace(\"\\t\",\" \")\n",
    "            if new_string:\n",
    "                new_text_content += new_string + '\\n'\n",
    "            else :\n",
    "                new_text_content += '\\n'\n",
    "        \n",
    "    with open(file,'w',encoding='UTF-8') as f:\n",
    "        f.write(new_text_content)"
   ]
  },
  {
   "cell_type": "code",
   "execution_count": null,
   "metadata": {},
   "outputs": [],
   "source": [
    "import os, csv\n",
    "import pandas as pd\n",
    "\n",
    "class_names =  ['WS_XR_CrossShape', 'WS_XR_Tshape', 'WS_XR_Yshape', 'WS_XR_RTshape', 'WS_XR_LTshape', 'WS_ThroughST', 'WS_Merge_R', 'WS_Merge_L', 'WS_Roundabout', 'WS_CrossRailroad', 'WS_R_Curve', 'WS_L_Curve', 'WS_RL_Curve', 'WS_LL_Curve', 'WS_2way', 'WS_Ascent_Road', 'WS_Descent_Road', 'WS_Narrow_Road', 'WS_Vanish_RightRoad', 'WS_Vanish_LeftRoad', 'WS_Pass_R', 'WS_Pass_Both', 'WS_MedianStrip_Start', 'WS_MedianStrip_End', 'WS_Flag', 'WS_Slippery', 'WS_Riverside', 'WS_UnevenSurface', 'WS_SpeedBump', 'WS_Rockslide', 'WS_Crosswalk', 'WS_Children', 'WS_Bicycle', 'WS_RC', 'WS_Airplane', 'WS_Sidewind', 'WS_Tunnel', 'WS_Bridge', 'WS_Wild_Animal', 'WS_Danger', 'WS_CCS', 'RS_E_TEMPPause', 'RS_E_Square', 'RS_E_Triangle', 'RS_E_TrafficCone', 'RS_E_Drum', 'RS_E_PEFence', 'RS_E_SignalVehicle', 'RS_E_ForkCrane', 'RS_E_PEFence2', 'RS_E_SCFence', 'RS_E_ETHeavy', 'I_Py_PEDmall', 'I_Py_Crosswalk', 'I_Py_P_Older', 'I_Py_P_Children', 'I_Py_P_DisablePerson', 'I_Py_BicycleCrossing', 'I_C_Road_Car', 'I_C_Road_Bicycle', 'I_C_Road_Bicycle_PED', 'I_C_Roundabout', 'I_C_STR', 'I_C_STR_RT', 'I_C_RT', 'I_C_LT', 'I_C_STR_LT', 'I_C_LT_Uturn', 'I_C_LT_RT', 'I_C_Uturn', 'I_C_Bothpass', 'I_C_Rightpass', 'I_C_Leftpass', 'I_C_Diversion', 'I_C_Bicycle_PED', 'I_C_Car_Bicycle', 'I_S_TrafficByDirection', 'I_S_Road_Bicycle', 'I_S_PL', 'I_S_CyclePL', 'I_S_Oneway', 'I_S_LT_Caution', 'I_S_Road_Bus', 'I_S_Road_HOV', 'I_S_Pass_first', 'TC_H_3color', 'TC_V_3color', 'TC_H_4color', 'TC_V_4color', 'TC_Y_Flasher', 'TC_Red_flasher', 'RS_T_Slow', 'RS_T_Yield', 'RS_C_PROH_Pass', 'RS_C_PROH_CarPass', 'RS_C_PROH_TruckPass', 'RS_C_PROH_OmnibusPass', 'RS_C_PROH_TWMV', 'RS_C_PROH_WMV', 'RS_C_PROH_TAH', 'RS_C_PROH_Bicycle', 'RS_C_PROH_Entry', 'RS_C_PROH_STR', 'RS_C_PROH_RT', 'RS_C_PROH_LT', 'RS_C_PROH_Uturn', 'RS_C_PROH_Overtaking', 'RS_C_PROH_TEMPStop', 'RS_C_PROH_STOP', 'RS_C_Limit_Weight', 'RS_C_Limit_Height', 'RS_C_Limit_Breadth', 'RS_C_DistanceWithCar', 'RS_C_Limit_MaxSpeed', 'RS_C_Limit_MinSpeed', 'RS_C_PROH_Walk', 'RS_C_PROH_LoadHazard']\n",
    "class_counts = defaultdict(int)\n",
    "output_csv = 'class_counts.csv'\n",
    "\n",
    "for file in tqdm(annotations) :\n",
    "    with open(file, 'r') as f:\n",
    "        for line in f.readlines():\n",
    "            class_id = int(line.split()[0])\n",
    "            class_name = class_names[class_id]\n",
    "            class_counts[class_name] += 1\n",
    "\n",
    "print(\"Class counts:\")\n",
    "with open(output_csv, 'w', newline='') as csvfile:\n",
    "    csv_writer = csv.writer(csvfile)\n",
    "    csv_writer.writerow(['classname', 'class_id', 'count'])\n",
    "\n",
    "    for class_id, class_name in enumerate(class_names):\n",
    "        count = class_counts[class_name]\n",
    "        csv_writer.writerow([class_name, class_id, count])\n",
    "\n",
    "print(f\"Class counts saved to {output_csv}.\")\n",
    "class_counts_df =  pd.DataFrame.from_dict(class_counts, orient='index')\n",
    "class_counts_df"
   ]
  },
  {
   "cell_type": "code",
   "execution_count": null,
   "metadata": {},
   "outputs": [],
   "source": [
    "class_counts_df.to_csv('class_counts.csv', header = None)"
   ]
  },
  {
   "cell_type": "code",
   "execution_count": null,
   "metadata": {},
   "outputs": [],
   "source": [
    "import shutil\n",
    "annotations.sort(), images.sort()\n",
    "\n",
    "for i in tqdm(images[:8001]):\n",
    "    shutil.move(i, 'D:/ExportYolov5_20230330/datasets/valid/images/'+os.path.basename(i))\n",
    "for a in tqdm(annotations[:8001]):\n",
    "    shutil.move(a, 'D:/ExportYolov5_20230330/datasets/valid/labels/'+os.path.basename(a))"
   ]
  }
 ],
 "metadata": {
  "kernelspec": {
   "display_name": "Python 3 (ipykernel)",
   "language": "python",
   "name": "python3"
  },
  "language_info": {
   "codemirror_mode": {
    "name": "ipython",
    "version": 3
   },
   "file_extension": ".py",
   "mimetype": "text/x-python",
   "name": "python",
   "nbconvert_exporter": "python",
   "pygments_lexer": "ipython3",
   "version": "3.8.16"
  },
  "vscode": {
   "interpreter": {
    "hash": "96d4e6d2ff3dfa61098c039fda58a257a2896b196cbe512754df0b558ec84d31"
   }
  }
 },
 "nbformat": 4,
 "nbformat_minor": 4
}
