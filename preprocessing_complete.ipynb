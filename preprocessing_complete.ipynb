{
 "cells": [
  {
   "cell_type": "code",
   "execution_count": 1,
   "id": "89956eea",
   "metadata": {},
   "outputs": [
    {
     "name": "stdout",
     "output_type": "stream",
     "text": [
      "annotation file : 36421\n",
      "image file : 36421\n"
     ]
    }
   ],
   "source": [
    "import os\n",
    "from tqdm import tqdm\n",
    "path = 'D:/ExportYolov5_20230330/datasets/train'\n",
    "annotations = []\n",
    "imgs = []\n",
    "for root,dirs,files in os.walk(path):\n",
    "    for file in files:\n",
    "        if '.txt' in file :\n",
    "            annotations.append(root+'/'+file)\n",
    "        elif '.jpg' in file:\n",
    "            imgs.append(root+'/'+file)\n",
    "print(f'annotation file : {len(annotations)}')\n",
    "print(f'image file : {len(imgs)}')"
   ]
  },
  {
   "attachments": {},
   "cell_type": "markdown",
   "id": "ca21b070",
   "metadata": {},
   "source": [
    "replace \\t -> '  "
   ]
  },
  {
   "cell_type": "code",
   "execution_count": 39,
   "id": "6cebe258",
   "metadata": {},
   "outputs": [
    {
     "name": "stderr",
     "output_type": "stream",
     "text": [
      "100%|██████████| 36421/36421 [00:14<00:00, 2541.58it/s]\n"
     ]
    }
   ],
   "source": [
    "for file in tqdm(annotations):\n",
    "    new_text_content = ''\n",
    "\n",
    "    with open(file,'r',encoding='UTF-8') as f :\n",
    "        lines = f.readlines()\n",
    "        for idx, line in enumerate(lines):\n",
    "            new_string = line.strip().replace(\"\\t\",\" \")\n",
    "            if new_string:\n",
    "                new_text_content += new_string + '\\n'\n",
    "            else :\n",
    "                new_text_content += '\\n'\n",
    "        \n",
    "    with open(file,'w',encoding='UTF-8') as f:\n",
    "        f.write(new_text_content)"
   ]
  },
  {
   "attachments": {},
   "cell_type": "markdown",
   "id": "833a8ae4",
   "metadata": {},
   "source": [
    "## 전처리 \n",
    "- max count : 1000\n",
    "- basename이 같은 image 파일도 디렉토리 이동"
   ]
  },
  {
   "cell_type": "code",
   "execution_count": 4,
   "id": "41c06fba",
   "metadata": {},
   "outputs": [
    {
     "name": "stderr",
     "output_type": "stream",
     "text": [
      "100%|██████████| 36421/36421 [01:46<00:00, 341.74it/s]\n"
     ]
    }
   ],
   "source": [
    "from tqdm import tqdm\n",
    "import shutil\n",
    "import os\n",
    "\n",
    "max_annotations = 1001\n",
    "class_counts = {}\n",
    "for file in tqdm(annotations):\n",
    "    with open(file, 'r', encoding='UTF-8') as f:\n",
    "        linelist = ''\n",
    "        lines = f.readlines()\n",
    "\n",
    "        for line in lines:\n",
    "            class_id = line.split(' ')[0]\n",
    "            if class_id not in class_counts:\n",
    "                class_counts[class_id] = 0\n",
    "            else :     \n",
    "                class_counts[class_id] += 1\n",
    "                if class_counts[class_id] < max_annotations:\n",
    "                    linelist += line\n",
    "                else : pass\n",
    "\n",
    "        if len(linelist) > 0:\n",
    "            with open(os.path.join('D:/ExportYolov5_20230330/datasets/valid/labels/', os.path.basename(file)), 'a+', encoding='UTF-8') as f:\n",
    "                f.write(linelist)\n",
    "            shutil.move(os.path.join('D:/ExportYolov5_20230330/datasets/train/images/', os.path.basename(file)[:-4]+'.jpg'),os.path.join('D:/ExportYolov5_20230330/datasets/valid/images/', os.path.basename(file)[:-4]+'.jpg'))\n",
    "        else : pass\n"
   ]
  },
  {
   "attachments": {},
   "cell_type": "markdown",
   "id": "df8286cb",
   "metadata": {},
   "source": [
    "## 전처리 완료 데이터 점검"
   ]
  },
  {
   "cell_type": "code",
   "execution_count": 5,
   "id": "6b835fa3",
   "metadata": {},
   "outputs": [
    {
     "name": "stdout",
     "output_type": "stream",
     "text": [
      "annotation file : 24697\n",
      "image file : 24697\n"
     ]
    }
   ],
   "source": [
    "import os\n",
    "\n",
    "path = 'D:/ExportYolov5_20230330/datasets/valid'\n",
    "annotations = []\n",
    "imgs = []\n",
    "for root,dirs,files in os.walk(path):\n",
    "    for file in files:\n",
    "        if '.txt' in file :\n",
    "            annotations.append(root+'/'+file)\n",
    "        elif '.jpg' in file:\n",
    "            imgs.append(root+'/'+file)\n",
    "print(f'annotation file : {len(annotations)}')\n",
    "print(f'image file : {len(imgs)}')"
   ]
  },
  {
   "cell_type": "code",
   "execution_count": 6,
   "id": "b69dc58a",
   "metadata": {},
   "outputs": [
    {
     "name": "stderr",
     "output_type": "stream",
     "text": [
      "100%|██████████| 24697/24697 [01:01<00:00, 400.57it/s]"
     ]
    },
    {
     "name": "stdout",
     "output_type": "stream",
     "text": [
      "WS_XR_CrossShape, 0, 0\n",
      "WS_XR_Tshape, 1, 19\n",
      "WS_XR_Yshape, 2, 2\n",
      "WS_XR_RTshape, 3, 144\n",
      "WS_XR_LTshape, 4, 827\n",
      "WS_ThroughST, 5, 3\n",
      "WS_Merge_R, 6, 517\n",
      "WS_Merge_L, 7, 24\n",
      "WS_Roundabout, 8, 13\n",
      "WS_CrossRailroad, 9, 63\n",
      "WS_R_Curve, 10, 274\n",
      "WS_L_Curve, 11, 422\n",
      "WS_RL_Curve, 12, 39\n",
      "WS_LL_Curve, 13, 9\n",
      "WS_2way, 14, 0\n",
      "WS_Ascent_Road, 15, 22\n",
      "WS_Descent_Road, 16, 20\n",
      "WS_Narrow_Road, 17, 5\n",
      "WS_Vanish_RightRoad, 18, 406\n",
      "WS_Vanish_LeftRoad, 19, 0\n",
      "WS_Pass_R, 20, 15\n",
      "WS_Pass_Both, 21, 20\n",
      "WS_MedianStrip_Start, 22, 9\n",
      "WS_MedianStrip_End, 23, 0\n",
      "WS_Flag, 24, 119\n",
      "WS_Slippery, 25, 117\n",
      "WS_Riverside, 26, 66\n",
      "WS_UnevenSurface, 27, 324\n",
      "WS_SpeedBump, 28, 714\n",
      "WS_Rockslide, 29, 20\n",
      "WS_Crosswalk, 30, 913\n",
      "WS_Children, 31, 24\n",
      "WS_Bicycle, 32, 59\n",
      "WS_RC, 33, 38\n",
      "WS_Airplane, 34, 0\n",
      "WS_Sidewind, 35, 2\n",
      "WS_Tunnel, 36, 4\n",
      "WS_Bridge, 37, 0\n",
      "WS_Wild_Animal, 38, 20\n",
      "WS_Danger, 39, 305\n",
      "WS_CCS, 40, 2\n",
      "RS_E_TEMPPause, 41, 254\n",
      "RS_E_Square, 42, 668\n",
      "RS_E_Triangle, 43, 0\n",
      "RS_E_TrafficCone, 44, 1000\n",
      "RS_E_Drum, 45, 164\n",
      "RS_E_PEFence, 46, 1000\n",
      "RS_E_SignalVehicle, 47, 0\n",
      "RS_E_ForkCrane, 48, 4\n",
      "RS_E_PEFence2, 49, 64\n",
      "RS_E_SCFence, 50, 471\n",
      "RS_E_ETHeavy, 51, 557\n",
      "I_Py_PEDmall, 52, 0\n",
      "I_Py_Crosswalk, 53, 1000\n",
      "I_Py_P_Older, 54, 0\n",
      "I_Py_P_Children, 55, 69\n",
      "I_Py_P_DisablePerson, 56, 0\n",
      "I_Py_BicycleCrossing, 57, 988\n",
      "I_C_Road_Car, 58, 25\n",
      "I_C_Road_Bicycle, 59, 1000\n",
      "I_C_Road_Bicycle_PED, 60, 849\n",
      "I_C_Roundabout, 61, 35\n",
      "I_C_STR, 62, 4\n",
      "I_C_STR_RT, 63, 1000\n",
      "I_C_RT, 64, 103\n",
      "I_C_LT, 65, 176\n",
      "I_C_STR_LT, 66, 1000\n",
      "I_C_LT_Uturn, 67, 50\n",
      "I_C_LT_RT, 68, 39\n",
      "I_C_Uturn, 69, 1000\n",
      "I_C_Bothpass, 70, 169\n",
      "I_C_Rightpass, 71, 580\n",
      "I_C_Leftpass, 72, 116\n",
      "I_C_Diversion, 73, 47\n",
      "I_C_Bicycle_PED, 74, 1000\n",
      "I_C_Car_Bicycle, 75, 1\n",
      "I_S_TrafficByDirection, 76, 217\n",
      "I_S_Road_Bicycle, 77, 260\n",
      "I_S_PL, 78, 38\n",
      "I_S_CyclePL, 79, 1\n",
      "I_S_Oneway, 80, 434\n",
      "I_S_LT_Caution, 81, 1000\n",
      "I_S_Road_Bus, 82, 1000\n",
      "I_S_Road_HOV, 83, 0\n",
      "I_S_Pass_first, 84, 0\n",
      "TC_H_3color, 85, 1000\n",
      "TC_V_3color, 86, 390\n",
      "TC_H_4color, 87, 1000\n",
      "TC_V_4color, 88, 16\n",
      "TC_Y_Flasher, 89, 1000\n",
      "TC_Red_flasher, 90, 2\n",
      "RS_T_Slow, 91, 1000\n",
      "RS_T_Yield, 92, 551\n",
      "RS_C_PROH_Pass, 93, 0\n",
      "RS_C_PROH_CarPass, 94, 0\n",
      "RS_C_PROH_TruckPass, 95, 109\n",
      "RS_C_PROH_OmnibusPass, 96, 8\n",
      "RS_C_PROH_TWMV, 97, 1000\n",
      "RS_C_PROH_WMV, 98, 1\n",
      "RS_C_PROH_TAH, 99, 3\n",
      "RS_C_PROH_Bicycle, 100, 22\n",
      "RS_C_PROH_Entry, 101, 176\n",
      "RS_C_PROH_STR, 102, 168\n",
      "RS_C_PROH_RT, 103, 1000\n",
      "RS_C_PROH_LT, 104, 1000\n",
      "RS_C_PROH_Uturn, 105, 1000\n",
      "RS_C_PROH_Overtaking, 106, 81\n",
      "RS_C_PROH_TEMPStop, 107, 1000\n",
      "RS_C_PROH_STOP, 108, 1000\n",
      "RS_C_Limit_Weight, 109, 51\n",
      "RS_C_Limit_Height, 110, 1000\n",
      "RS_C_Limit_Breadth, 111, 221\n",
      "RS_C_DistanceWithCar, 112, 37\n",
      "RS_C_Limit_MaxSpeed, 113, 1000\n",
      "RS_C_Limit_MinSpeed, 114, 27\n",
      "RS_C_PROH_Walk, 115, 200\n",
      "RS_C_PROH_LoadHazard, 116, 0\n"
     ]
    },
    {
     "name": "stderr",
     "output_type": "stream",
     "text": [
      "\n"
     ]
    }
   ],
   "source": [
    "import os, csv\n",
    "import pandas as pd\n",
    "from collections import defaultdict\n",
    "class_names =  ['WS_XR_CrossShape', 'WS_XR_Tshape', 'WS_XR_Yshape', 'WS_XR_RTshape', 'WS_XR_LTshape', 'WS_ThroughST', 'WS_Merge_R', 'WS_Merge_L', 'WS_Roundabout', 'WS_CrossRailroad', 'WS_R_Curve', 'WS_L_Curve', 'WS_RL_Curve', 'WS_LL_Curve', 'WS_2way', 'WS_Ascent_Road', 'WS_Descent_Road', 'WS_Narrow_Road', 'WS_Vanish_RightRoad', 'WS_Vanish_LeftRoad', 'WS_Pass_R', 'WS_Pass_Both', 'WS_MedianStrip_Start', 'WS_MedianStrip_End', 'WS_Flag', 'WS_Slippery', 'WS_Riverside', 'WS_UnevenSurface', 'WS_SpeedBump', 'WS_Rockslide', 'WS_Crosswalk', 'WS_Children', 'WS_Bicycle', 'WS_RC', 'WS_Airplane', 'WS_Sidewind', 'WS_Tunnel', 'WS_Bridge', 'WS_Wild_Animal', 'WS_Danger', 'WS_CCS', 'RS_E_TEMPPause', 'RS_E_Square', 'RS_E_Triangle', 'RS_E_TrafficCone', 'RS_E_Drum', 'RS_E_PEFence', 'RS_E_SignalVehicle', 'RS_E_ForkCrane', 'RS_E_PEFence2', 'RS_E_SCFence', 'RS_E_ETHeavy', 'I_Py_PEDmall', 'I_Py_Crosswalk', 'I_Py_P_Older', 'I_Py_P_Children', 'I_Py_P_DisablePerson', 'I_Py_BicycleCrossing', 'I_C_Road_Car', 'I_C_Road_Bicycle', 'I_C_Road_Bicycle_PED', 'I_C_Roundabout', 'I_C_STR', 'I_C_STR_RT', 'I_C_RT', 'I_C_LT', 'I_C_STR_LT', 'I_C_LT_Uturn', 'I_C_LT_RT', 'I_C_Uturn', 'I_C_Bothpass', 'I_C_Rightpass', 'I_C_Leftpass', 'I_C_Diversion', 'I_C_Bicycle_PED', 'I_C_Car_Bicycle', 'I_S_TrafficByDirection', 'I_S_Road_Bicycle', 'I_S_PL', 'I_S_CyclePL', 'I_S_Oneway', 'I_S_LT_Caution', 'I_S_Road_Bus', 'I_S_Road_HOV', 'I_S_Pass_first', 'TC_H_3color', 'TC_V_3color', 'TC_H_4color', 'TC_V_4color', 'TC_Y_Flasher', 'TC_Red_flasher', 'RS_T_Slow', 'RS_T_Yield', 'RS_C_PROH_Pass', 'RS_C_PROH_CarPass', 'RS_C_PROH_TruckPass', 'RS_C_PROH_OmnibusPass', 'RS_C_PROH_TWMV', 'RS_C_PROH_WMV', 'RS_C_PROH_TAH', 'RS_C_PROH_Bicycle', 'RS_C_PROH_Entry', 'RS_C_PROH_STR', 'RS_C_PROH_RT', 'RS_C_PROH_LT', 'RS_C_PROH_Uturn', 'RS_C_PROH_Overtaking', 'RS_C_PROH_TEMPStop', 'RS_C_PROH_STOP', 'RS_C_Limit_Weight', 'RS_C_Limit_Height', 'RS_C_Limit_Breadth', 'RS_C_DistanceWithCar', 'RS_C_Limit_MaxSpeed', 'RS_C_Limit_MinSpeed', 'RS_C_PROH_Walk', 'RS_C_PROH_LoadHazard']\n",
    "class_counts = defaultdict(int)\n",
    "\n",
    "\n",
    "for file in tqdm(annotations) :\n",
    "    with open(file, 'r') as f:\n",
    "        for line in f.readlines():\n",
    "            class_id = int(line.split()[0])\n",
    "            class_name = class_names[class_id]\n",
    "            class_counts[class_name] += 1\n",
    "for class_id, class_name in enumerate(class_names):\n",
    "    count = class_counts[class_name]\n",
    "    print(f\"{class_name}, {class_id}, {count}\")"
   ]
  },
  {
   "attachments": {},
   "cell_type": "markdown",
   "id": "616da605",
   "metadata": {},
   "source": [
    "## class분포 csv파일로 저장"
   ]
  },
  {
   "cell_type": "code",
   "execution_count": 7,
   "id": "18a41176",
   "metadata": {},
   "outputs": [
    {
     "name": "stdout",
     "output_type": "stream",
     "text": [
      "Class counts saved to class_counts.csv.\n"
     ]
    }
   ],
   "source": [
    "output_csv = 'class_counts.csv'\n",
    "with open(output_csv, 'w', newline='') as csvfile:\n",
    "    csv_writer = csv.writer(csvfile)\n",
    "    csv_writer.writerow(['classname', 'class_id', 'count'])\n",
    "\n",
    "    for class_id, class_name in enumerate(class_names):\n",
    "        count = class_counts[class_name]\n",
    "        csv_writer.writerow([class_name, class_id, count])\n",
    "\n",
    "print(f\"Class counts saved to {output_csv}.\")"
   ]
  },
  {
   "attachments": {},
   "cell_type": "markdown",
   "id": "d9626b1a",
   "metadata": {},
   "source": [
    "## 전처리 후 다른 폴더로 옮긴 txt파일 삭제\n",
    "   -> image와 매핑이 안되는 txt 파일 삭제"
   ]
  },
  {
   "cell_type": "code",
   "execution_count": 8,
   "id": "e29d5ded",
   "metadata": {},
   "outputs": [
    {
     "name": "stdout",
     "output_type": "stream",
     "text": [
      "annotation files: 36421\n",
      "image files: 11724\n"
     ]
    },
    {
     "name": "stderr",
     "output_type": "stream",
     "text": [
      "100%|██████████| 36421/36421 [00:08<00:00, 4139.69it/s]\n"
     ]
    }
   ],
   "source": [
    "import os\n",
    "\n",
    "img_path = 'D:/ExportYolov5_20230330/datasets/train/images'\n",
    "anno_path = 'D:/ExportYolov5_20230330/datasets/train/labels'\n",
    "\n",
    "imgs = []\n",
    "annotations = []\n",
    "\n",
    "for root, dirs, files in os.walk(img_path):\n",
    "    for file in files:\n",
    "        if file.endswith('.jpg'):\n",
    "            imgs.append(os.path.join(root, file))\n",
    "\n",
    "for root, dirs, files in os.walk(anno_path):\n",
    "    for file in files:\n",
    "        if file.endswith('.txt'):\n",
    "            annotations.append(os.path.join(root, file))\n",
    "\n",
    "print(f'annotation files: {len(annotations)}')\n",
    "print(f'image files: {len(imgs)}')\n",
    "\n",
    "for anno in tqdm(annotations):\n",
    "    corresponding_img = os.path.splitext(anno)[0].replace('labels', 'images') + '.jpg'\n",
    "    if corresponding_img not in imgs:\n",
    "        os.remove(anno)"
   ]
  }
 ],
 "metadata": {
  "kernelspec": {
   "display_name": "Python 3 (ipykernel)",
   "language": "python",
   "name": "python3"
  },
  "language_info": {
   "codemirror_mode": {
    "name": "ipython",
    "version": 3
   },
   "file_extension": ".py",
   "mimetype": "text/x-python",
   "name": "python",
   "nbconvert_exporter": "python",
   "pygments_lexer": "ipython3",
   "version": "3.8.16"
  }
 },
 "nbformat": 4,
 "nbformat_minor": 5
}
