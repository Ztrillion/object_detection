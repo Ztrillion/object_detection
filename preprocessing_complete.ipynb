{
 "cells": [
  {
   "cell_type": "code",
   "execution_count": 21,
   "id": "89956eea",
   "metadata": {},
   "outputs": [
    {
     "name": "stdout",
     "output_type": "stream",
     "text": [
      "annotation file : 6000\n",
      "image file : 6000\n"
     ]
    }
   ],
   "source": [
    "import os\n",
    "from tqdm import tqdm\n",
    "path = 'D:/230403_modeling/train'\n",
    "annotations = []\n",
    "imgs = []\n",
    "for root,dirs,files in os.walk(path):\n",
    "    for file in files:\n",
    "        if '.txt' in file :\n",
    "            annotations.append(root+'/'+file)\n",
    "        elif '.jpg' in file:\n",
    "            imgs.append(root+'/'+file)\n",
    "print(f'annotation file : {len(annotations)}')\n",
    "print(f'image file : {len(imgs)}')"
   ]
  },
  {
   "attachments": {},
   "cell_type": "markdown",
   "id": "ca21b070",
   "metadata": {},
   "source": [
    "replace \\t -> '  "
   ]
  },
  {
   "cell_type": "code",
   "execution_count": 6,
   "id": "6cebe258",
   "metadata": {},
   "outputs": [
    {
     "name": "stderr",
     "output_type": "stream",
     "text": [
      "100%|██████████| 72456/72456 [03:06<00:00, 389.32it/s]\n"
     ]
    }
   ],
   "source": [
    "for file in tqdm(annotations):\n",
    "    new_text_content = ''\n",
    "\n",
    "    with open(file,'r',encoding='UTF-8') as f :\n",
    "        lines = f.readlines()\n",
    "        for idx, line in enumerate(lines):\n",
    "            new_string = line.strip().replace(\"\\t\",\" \")\n",
    "            if new_string:\n",
    "                new_text_content += new_string + '\\n'\n",
    "            else :\n",
    "                new_text_content += '\\n'\n",
    "        \n",
    "    with open(file,'w',encoding='UTF-8') as f:\n",
    "        f.write(new_text_content)"
   ]
  },
  {
   "attachments": {},
   "cell_type": "markdown",
   "id": "833a8ae4",
   "metadata": {},
   "source": [
    "## 전처리 \n",
    "- max count : 1000\n",
    "- basename이 같은 image 파일도 디렉토리 이동"
   ]
  },
  {
   "cell_type": "code",
   "execution_count": 7,
   "id": "41c06fba",
   "metadata": {},
   "outputs": [
    {
     "name": "stderr",
     "output_type": "stream",
     "text": [
      "100%|██████████| 72456/72456 [03:36<00:00, 334.86it/s]\n"
     ]
    }
   ],
   "source": [
    "from tqdm import tqdm\n",
    "import shutil\n",
    "import os\n",
    "\n",
    "max_annotations = 2001\n",
    "class_counts = {}\n",
    "for file in tqdm(annotations):\n",
    "    with open(file, 'r', encoding='UTF-8') as f:\n",
    "        linelist = ''\n",
    "        lines = f.readlines()\n",
    "\n",
    "        for line in lines:\n",
    "            class_id = line.split(' ')[0]\n",
    "            if class_id not in class_counts:\n",
    "                class_counts[class_id] = 0\n",
    "            else :     \n",
    "                class_counts[class_id] += 1\n",
    "                if class_counts[class_id] < max_annotations:\n",
    "                    linelist += line\n",
    "                else : pass\n",
    "\n",
    "        if len(linelist) > 0:\n",
    "            with open(os.path.join('D:/230403_modeling/valid/labels/', os.path.basename(file)), 'a+', encoding='UTF-8') as f:\n",
    "                f.write(linelist)\n",
    "            shutil.move(os.path.join('D:/230403_modeling/train/images/', os.path.basename(file)[:-4]+'.jpg'),os.path.join('D:/230403_modeling/valid/images/', os.path.basename(file)[:-4]+'.jpg'))\n",
    "        else : pass\n"
   ]
  },
  {
   "attachments": {},
   "cell_type": "markdown",
   "id": "df8286cb",
   "metadata": {},
   "source": [
    "## 전처리 완료 데이터 점검"
   ]
  },
  {
   "cell_type": "code",
   "execution_count": 8,
   "id": "6b835fa3",
   "metadata": {},
   "outputs": [
    {
     "name": "stdout",
     "output_type": "stream",
     "text": [
      "annotation file : 59372\n",
      "image file : 59372\n"
     ]
    }
   ],
   "source": [
    "import os\n",
    "\n",
    "path = 'D:/230403_modeling/valid'\n",
    "annotations = []\n",
    "imgs = []\n",
    "for root,dirs,files in os.walk(path):\n",
    "    for file in files:\n",
    "        if '.txt' in file :\n",
    "            annotations.append(root+'/'+file)\n",
    "        elif '.jpg' in file:\n",
    "            imgs.append(root+'/'+file)\n",
    "print(f'annotation file : {len(annotations)}')\n",
    "print(f'image file : {len(imgs)}')"
   ]
  },
  {
   "cell_type": "code",
   "execution_count": 22,
   "id": "b69dc58a",
   "metadata": {},
   "outputs": [
    {
     "name": "stderr",
     "output_type": "stream",
     "text": [
      " 84%|████████▎ | 5016/6000 [00:00<00:00, 7219.85it/s]"
     ]
    },
    {
     "name": "stdout",
     "output_type": "stream",
     "text": [
      "D:/230403_modeling/train\\labels/geostory22_00028153.txt\n",
      "D:/230403_modeling/train\\labels/geostory22_00028154.txt\n",
      "D:/230403_modeling/train\\labels/geostory22_00028865.txt\n"
     ]
    },
    {
     "name": "stderr",
     "output_type": "stream",
     "text": [
      "100%|██████████| 6000/6000 [00:00<00:00, 7052.41it/s]"
     ]
    },
    {
     "name": "stdout",
     "output_type": "stream",
     "text": [
      "D:/230403_modeling/train\\labels/geostory22_00029732.txt\n",
      "WS_XR_CrossShape, 0, 7\n",
      "WS_XR_Tshape, 1, 12\n",
      "WS_XR_Yshape, 2, 0\n",
      "WS_XR_RTshape, 3, 42\n",
      "WS_XR_LTshape, 4, 3\n",
      "WS_ThroughST, 5, 0\n",
      "WS_Merge_R, 6, 133\n",
      "WS_Merge_L, 7, 2\n",
      "WS_Roundabout, 8, 0\n",
      "WS_CrossRailroad, 9, 0\n",
      "WS_R_Curve, 10, 134\n",
      "WS_L_Curve, 11, 110\n",
      "WS_RL_Curve, 12, 0\n",
      "WS_LL_Curve, 13, 0\n",
      "WS_2way, 14, 1\n",
      "WS_Ascent_Road, 15, 0\n",
      "WS_Descent_Road, 16, 3\n",
      "WS_Narrow_Road, 17, 0\n",
      "WS_Vanish_RightRoad, 18, 47\n",
      "WS_Vanish_LeftRoad, 19, 0\n",
      "WS_Pass_R, 20, 0\n",
      "WS_Pass_Both, 21, 0\n",
      "WS_MedianStrip_Start, 22, 0\n",
      "WS_MedianStrip_End, 23, 0\n",
      "WS_Flag, 24, 0\n",
      "WS_Slippery, 25, 33\n",
      "WS_Riverside, 26, 0\n",
      "WS_UnevenSurface, 27, 0\n",
      "WS_SpeedBump, 28, 280\n",
      "WS_Rockslide, 29, 0\n",
      "WS_Crosswalk, 30, 229\n",
      "WS_Children, 31, 29\n",
      "WS_Bicycle, 32, 331\n",
      "WS_RC, 33, 46\n",
      "WS_Airplane, 34, 0\n",
      "WS_Sidewind, 35, 0\n",
      "WS_Tunnel, 36, 0\n",
      "WS_Bridge, 37, 0\n",
      "WS_Wild_Animal, 38, 0\n",
      "WS_Danger, 39, 160\n",
      "WS_CCS, 40, 0\n",
      "RS_E_TEMPPause, 41, 117\n",
      "RS_E_Square, 42, 164\n",
      "RS_E_Triangle, 43, 0\n",
      "RS_E_TrafficCone, 44, 0\n",
      "RS_E_Drum, 45, 84\n",
      "RS_E_PEFence, 46, 0\n",
      "RS_E_SignalVehicle, 47, 41\n",
      "RS_E_ForkCrane, 48, 138\n",
      "RS_E_PEFence2, 49, 3\n",
      "RS_E_SCFence, 50, 400\n",
      "RS_E_ETHeavy, 51, 0\n",
      "I_Py_PEDmall, 52, 0\n",
      "I_Py_Crosswalk, 53, 0\n",
      "I_Py_P_Older, 54, 16\n",
      "I_Py_P_Children, 55, 425\n",
      "I_Py_P_DisablePerson, 56, 0\n",
      "I_Py_BicycleCrossing, 57, 17\n",
      "I_C_Road_Car, 58, 44\n",
      "I_C_Road_Bicycle, 59, 499\n",
      "I_C_Road_Bicycle_PED, 60, 188\n",
      "I_C_Roundabout, 61, 32\n",
      "I_C_STR, 62, 18\n",
      "I_C_STR_RT, 63, 322\n",
      "I_C_RT, 64, 90\n",
      "I_C_LT, 65, 125\n",
      "I_C_STR_LT, 66, 308\n",
      "I_C_LT_Uturn, 67, 1\n",
      "I_C_LT_RT, 68, 13\n",
      "I_C_Uturn, 69, 0\n",
      "I_C_Bothpass, 70, 47\n",
      "I_C_Rightpass, 71, 268\n",
      "I_C_Leftpass, 72, 59\n",
      "I_C_Diversion, 73, 4\n",
      "I_C_Bicycle_PED, 74, 27\n",
      "I_C_Car_Bicycle, 75, 2\n",
      "I_S_TrafficByDirection, 76, 64\n",
      "I_S_Road_Bicycle, 77, 60\n",
      "I_S_PL, 78, 13\n",
      "I_S_CyclePL, 79, 0\n",
      "I_S_Oneway, 80, 255\n",
      "I_S_LT_Caution, 81, 0\n",
      "I_S_Road_Bus, 82, 261\n",
      "I_S_Road_HOV, 83, 0\n",
      "I_S_Pass_first, 84, 0\n",
      "TC_H_3color, 85, 0\n",
      "TC_V_3color, 86, 221\n",
      "TC_H_4color, 87, 0\n",
      "TC_V_4color, 88, 0\n",
      "TC_Y_Flasher, 89, 694\n",
      "TC_Red_flasher, 90, 44\n",
      "RS_T_Slow, 91, 245\n",
      "RS_T_Yield, 92, 108\n",
      "RS_C_PROH_Pass, 93, 0\n",
      "RS_C_PROH_CarPass, 94, 2\n",
      "RS_C_PROH_TruckPass, 95, 81\n",
      "RS_C_PROH_OmnibusPass, 96, 0\n",
      "RS_C_PROH_TWMV, 97, 498\n",
      "RS_C_PROH_WMV, 98, 0\n",
      "RS_C_PROH_TAH, 99, 0\n",
      "RS_C_PROH_Bicycle, 100, 0\n",
      "RS_C_PROH_Entry, 101, 120\n",
      "RS_C_PROH_STR, 102, 66\n",
      "RS_C_PROH_RT, 103, 533\n",
      "RS_C_PROH_LT, 104, 606\n",
      "RS_C_PROH_Uturn, 105, 174\n",
      "RS_C_PROH_Overtaking, 106, 124\n",
      "RS_C_PROH_TEMPStop, 107, 0\n",
      "RS_C_PROH_STOP, 108, 0\n",
      "RS_C_Limit_Weight, 109, 13\n",
      "RS_C_Limit_Height, 110, 0\n",
      "RS_C_Limit_Breadth, 111, 0\n",
      "RS_C_DistanceWithCar, 112, 2\n",
      "RS_C_Limit_MaxSpeed, 113, 0\n",
      "RS_C_Limit_MinSpeed, 114, 3\n",
      "RS_C_PROH_Walk, 115, 126\n",
      "RS_C_PROH_LoadHazard, 116, 4\n"
     ]
    },
    {
     "name": "stderr",
     "output_type": "stream",
     "text": [
      "\n"
     ]
    }
   ],
   "source": [
    "import csv\n",
    "from collections import defaultdict\n",
    "class_names =  ['WS_XR_CrossShape', 'WS_XR_Tshape', 'WS_XR_Yshape', 'WS_XR_RTshape', 'WS_XR_LTshape', 'WS_ThroughST', 'WS_Merge_R', 'WS_Merge_L', 'WS_Roundabout', 'WS_CrossRailroad', 'WS_R_Curve', 'WS_L_Curve', 'WS_RL_Curve', 'WS_LL_Curve', 'WS_2way', 'WS_Ascent_Road', 'WS_Descent_Road', 'WS_Narrow_Road', 'WS_Vanish_RightRoad', 'WS_Vanish_LeftRoad', 'WS_Pass_R', 'WS_Pass_Both', 'WS_MedianStrip_Start', 'WS_MedianStrip_End', 'WS_Flag', 'WS_Slippery', 'WS_Riverside', 'WS_UnevenSurface', 'WS_SpeedBump', 'WS_Rockslide', 'WS_Crosswalk', 'WS_Children', 'WS_Bicycle', 'WS_RC', 'WS_Airplane', 'WS_Sidewind', 'WS_Tunnel', 'WS_Bridge', 'WS_Wild_Animal', 'WS_Danger', 'WS_CCS', 'RS_E_TEMPPause', 'RS_E_Square', 'RS_E_Triangle', 'RS_E_TrafficCone', 'RS_E_Drum', 'RS_E_PEFence', 'RS_E_SignalVehicle', 'RS_E_ForkCrane', 'RS_E_PEFence2', 'RS_E_SCFence', 'RS_E_ETHeavy', 'I_Py_PEDmall', 'I_Py_Crosswalk', 'I_Py_P_Older', 'I_Py_P_Children', 'I_Py_P_DisablePerson', 'I_Py_BicycleCrossing', 'I_C_Road_Car', 'I_C_Road_Bicycle', 'I_C_Road_Bicycle_PED', 'I_C_Roundabout', 'I_C_STR', 'I_C_STR_RT', 'I_C_RT', 'I_C_LT', 'I_C_STR_LT', 'I_C_LT_Uturn', 'I_C_LT_RT', 'I_C_Uturn', 'I_C_Bothpass', 'I_C_Rightpass', 'I_C_Leftpass', 'I_C_Diversion', 'I_C_Bicycle_PED', 'I_C_Car_Bicycle', 'I_S_TrafficByDirection', 'I_S_Road_Bicycle', 'I_S_PL', 'I_S_CyclePL', 'I_S_Oneway', 'I_S_LT_Caution', 'I_S_Road_Bus', 'I_S_Road_HOV', 'I_S_Pass_first', 'TC_H_3color', 'TC_V_3color', 'TC_H_4color', 'TC_V_4color', 'TC_Y_Flasher', 'TC_Red_flasher', 'RS_T_Slow', 'RS_T_Yield', 'RS_C_PROH_Pass', 'RS_C_PROH_CarPass', 'RS_C_PROH_TruckPass', 'RS_C_PROH_OmnibusPass', 'RS_C_PROH_TWMV', 'RS_C_PROH_WMV', 'RS_C_PROH_TAH', 'RS_C_PROH_Bicycle', 'RS_C_PROH_Entry', 'RS_C_PROH_STR', 'RS_C_PROH_RT', 'RS_C_PROH_LT', 'RS_C_PROH_Uturn', 'RS_C_PROH_Overtaking', 'RS_C_PROH_TEMPStop', 'RS_C_PROH_STOP', 'RS_C_Limit_Weight', 'RS_C_Limit_Height', 'RS_C_Limit_Breadth', 'RS_C_DistanceWithCar', 'RS_C_Limit_MaxSpeed', 'RS_C_Limit_MinSpeed', 'RS_C_PROH_Walk', 'RS_C_PROH_LoadHazard']\n",
    "class_counts = defaultdict(int)\n",
    "\n",
    "\n",
    "for file in tqdm(annotations) :\n",
    "    with open(file, 'r') as f:\n",
    "        for line in f.readlines():\n",
    "            class_id = int(line.split()[0])\n",
    "            class_name = class_names[class_id]\n",
    "            class_counts[class_name] += 1\n",
    "            if class_id == 116:\n",
    "                print(str(file))\n",
    "for class_id, class_name in enumerate(class_names):\n",
    "    count = class_counts[class_name]\n",
    "    print(f\"{class_name}, {class_id}, {count}\")"
   ]
  },
  {
   "attachments": {},
   "cell_type": "markdown",
   "id": "616da605",
   "metadata": {},
   "source": [
    "## class분포 csv파일로 저장"
   ]
  },
  {
   "cell_type": "code",
   "execution_count": 20,
   "id": "18a41176",
   "metadata": {},
   "outputs": [
    {
     "name": "stdout",
     "output_type": "stream",
     "text": [
      "Class counts saved to class_counts.csv.\n"
     ]
    }
   ],
   "source": [
    "output_csv = 'class_counts.csv'\n",
    "with open(output_csv, 'w', newline='') as csvfile:\n",
    "    csv_writer = csv.writer(csvfile)\n",
    "    csv_writer.writerow(['classname', 'class_id', 'count'])\n",
    "\n",
    "    for class_id, class_name in enumerate(class_names):\n",
    "        count = class_counts[class_name]\n",
    "        csv_writer.writerow([class_name, class_id, count])\n",
    "\n",
    "print(f\"Class counts saved to {output_csv}.\")"
   ]
  },
  {
   "attachments": {},
   "cell_type": "markdown",
   "id": "d9626b1a",
   "metadata": {},
   "source": [
    "## 전처리 후 다른 폴더로 옮긴 txt파일 삭제\n",
    "   -> image와 매핑이 안되는 txt 파일 삭제"
   ]
  },
  {
   "cell_type": "code",
   "execution_count": 12,
   "id": "e29d5ded",
   "metadata": {},
   "outputs": [
    {
     "name": "stdout",
     "output_type": "stream",
     "text": [
      "annotation files: 72456\n",
      "image files: 13084\n"
     ]
    },
    {
     "name": "stderr",
     "output_type": "stream",
     "text": [
      "100%|██████████| 72456/72456 [00:21<00:00, 3355.90it/s]\n"
     ]
    }
   ],
   "source": [
    "import os\n",
    "\n",
    "img_path = 'D:/230403_modeling/train/images'\n",
    "anno_path = 'D:/230403_modeling/train/labels'\n",
    "\n",
    "imgs = []\n",
    "annotations = []\n",
    "\n",
    "for root, dirs, files in os.walk(img_path):\n",
    "    for file in files:\n",
    "        if file.endswith('.jpg'):\n",
    "            imgs.append(os.path.join(root, file))\n",
    "\n",
    "for root, dirs, files in os.walk(anno_path):\n",
    "    for file in files:\n",
    "        if file.endswith('.txt'):\n",
    "            annotations.append(os.path.join(root, file))\n",
    "\n",
    "print(f'annotation files: {len(annotations)}')\n",
    "print(f'image files: {len(imgs)}')\n",
    "\n",
    "for anno in tqdm(annotations):\n",
    "    corresponding_img = os.path.splitext(anno)[0].replace('labels', 'images') + '.jpg'\n",
    "    if corresponding_img not in imgs:\n",
    "        os.remove(anno)"
   ]
  },
  {
   "cell_type": "code",
   "execution_count": 16,
   "id": "9b420fd4",
   "metadata": {},
   "outputs": [
    {
     "name": "stdout",
     "output_type": "stream",
     "text": [
      "annotation file : 59372\n",
      "image file : 59372\n"
     ]
    }
   ],
   "source": [
    "import os\n",
    "\n",
    "path = 'D:/230403_modeling/valid'\n",
    "annotations = []\n",
    "imgs = []\n",
    "for root,dirs,files in os.walk(path):\n",
    "    for file in files:\n",
    "        if '.txt' in file :\n",
    "            annotations.append(root+'/'+file)\n",
    "        elif '.jpg' in file:\n",
    "            imgs.append(root+'/'+file)\n",
    "print(f'annotation file : {len(annotations)}')\n",
    "print(f'image file : {len(imgs)}')"
   ]
  },
  {
   "cell_type": "code",
   "execution_count": 17,
   "id": "feeea774",
   "metadata": {},
   "outputs": [],
   "source": [
    "annotations.sort()\n",
    "imgs.sort()\n",
    "\n",
    "for a in annotations[24000:30000]:\n",
    "    shutil.move(a,'D:/230403_modeling/train/labels/'+os.path.basename(a))\n",
    "for i in imgs[24000:30000]:\n",
    "    shutil.move(i,'D:/230403_modeling/train/images/'+os.path.basename(i))"
   ]
  },
  {
   "cell_type": "code",
   "execution_count": null,
   "id": "0eaf2116",
   "metadata": {},
   "outputs": [],
   "source": []
  }
 ],
 "metadata": {
  "kernelspec": {
   "display_name": "Python 3 (ipykernel)",
   "language": "python",
   "name": "python3"
  },
  "language_info": {
   "codemirror_mode": {
    "name": "ipython",
    "version": 3
   },
   "file_extension": ".py",
   "mimetype": "text/x-python",
   "name": "python",
   "nbconvert_exporter": "python",
   "pygments_lexer": "ipython3",
   "version": "3.8.16"
  }
 },
 "nbformat": 4,
 "nbformat_minor": 5
}
