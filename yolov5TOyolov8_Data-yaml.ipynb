{
 "cells": [
  {
   "cell_type": "code",
   "execution_count": 2,
   "metadata": {},
   "outputs": [],
   "source": [
    "import yaml\n",
    "\n",
    "with open(\"data.yaml\", \"r\") as file:\n",
    "    data = yaml.safe_load(file)\n",
    "\n",
    "names_dict = {i: name for i, name in enumerate(data['names'])}\n",
    "\n",
    "updated_data = {\n",
    "    \"path\" : \"./datasets/\",\n",
    "    \"train\" : \"train/images\",\n",
    "    \"val\" : \"valid/images\",\n",
    "    \"test\" : \"test/images\",\n",
    "    \"nc\" : data['nc'],\n",
    "    \"name\" : names_dict\n",
    "}\n",
    "\n",
    "with open(\"updated_datasets.yaml\", \"w\") as file:\n",
    "    yaml.safe_dump(updated_data, file, default_flow_style=False)"
   ]
  },
  {
   "cell_type": "code",
   "execution_count": null,
   "metadata": {},
   "outputs": [],
   "source": []
  }
 ],
 "metadata": {
  "kernelspec": {
   "display_name": "py38",
   "language": "python",
   "name": "python3"
  },
  "language_info": {
   "codemirror_mode": {
    "name": "ipython",
    "version": 3
   },
   "file_extension": ".py",
   "mimetype": "text/x-python",
   "name": "python",
   "nbconvert_exporter": "python",
   "pygments_lexer": "ipython3",
   "version": "3.8.18"
  }
 },
 "nbformat": 4,
 "nbformat_minor": 2
}
